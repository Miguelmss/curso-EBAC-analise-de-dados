{
 "cells": [
  {
   "cell_type": "markdown",
   "metadata": {},
   "source": [
    "## **Tarefa 1: Ola Mundo!** ##\n",
    "\n",
    "\n",
    "Nela, escreva o texto \"Olá mundo!\", utilize a função print"
   ]
  },
  {
   "cell_type": "code",
   "execution_count": null,
   "metadata": {},
   "outputs": [],
   "source": [
    "# Escreva seu código aqui\n",
    "print(\"Olá mundo!\")"
   ]
  },
  {
   "cell_type": "markdown",
   "metadata": {},
   "source": [
    "## **Tarefa 2: Números** ##\n",
    "\n",
    "Use expressões algébricas para calcular (A), (B) e (C) na tabela de ticket médio abaixo:\n",
    "\n",
    "\n",
    "| Dia  | Valor Total Vendas | Qtd Total Vendas |ticket Médio|\n",
    "| ------------- | ------------- | ------------- |-------------|\n",
    "| 19/01  | (A) | 3  | 320.52|\n",
    "| 20/01  | 834.47  | (B)  | 119.21|\n",
    "| 23/01  | 15378.12  | 5  | (C)|"
   ]
  },
  {
   "cell_type": "code",
   "execution_count": null,
   "metadata": {},
   "outputs": [],
   "source": [
    "# 19/01\n",
    "qtd_total_vendas_1 = 3\n",
    "ticket_medio_1 = 320.52\n",
    "\n",
    "# 20/01\n",
    "valor_total_vendas_2 = 834.47\n",
    "ticket_medio_2 = 119.21\n",
    "\n",
    "# 23/01\n",
    "valor_total_vendas_3 = 15378.12\n",
    "qtd_total_vendas_3 = 5\n",
    "\n",
    "# Calcule aqui:\n",
    "A = valor_total_vendas_1 = qtd_total_vendas_1 *ticket_medio_1\n",
    "B = qtd_total_vendas_2 = valor_total_vendas_2 /ticket_medio_2\n",
    "C = ticket_medio_3 = valor_total_vendas_3/qtd_total_vendas_3\n",
    "\n",
    "# Print\n",
    "print('(A) = ', A)\n",
    "print('(B) = ', B)\n",
    "print('(C) = ', C)\n"
   ]
  },
  {
   "cell_type": "markdown",
   "metadata": {},
   "source": [
    "## **Tarefa 3: string parte 1:** ##\n",
    "\n",
    "Aplique três métodos distintos na string abaixo."
   ]
  },
  {
   "cell_type": "code",
   "execution_count": null,
   "metadata": {},
   "outputs": [],
   "source": [
    "cancao = 'Roda mundo, roda gigante, roda moinho, roda pião.'"
   ]
  },
  {
   "cell_type": "markdown",
   "metadata": {},
   "source": [
    "1. Substitua todas as vírgulas por barras /\n",
    "1. Deixe a string em maiúscula\n",
    "1. Encontre a posição da palavra \"moinho\" na string"
   ]
  },
  {
   "cell_type": "code",
   "execution_count": null,
   "metadata": {},
   "outputs": [],
   "source": [
    "cancao = 'Roda mundo, roda gigante, roda moinho, roda pião.'\n",
    "\n",
    "# Substitua todas as vírgulas por barras /\n",
    "\n",
    "\n",
    "result1 = cancao.replace(\",\",\"/\")\n",
    "print(result1)\n",
    "\n",
    "\n",
    "# Deixe a string em maiúscula\n",
    "result2 = cancao.upper()\n",
    "print(result2)\n",
    "\n",
    "# Encontre a posição da palavra \"moinho\" na string\n",
    "result3 = cancao.find(\"moinho\")\n",
    "print(result3)"
   ]
  },
  {
   "cell_type": "markdown",
   "metadata": {},
   "source": [
    "## **Tarefa 4: string parte 2:** ##\n",
    "\n",
    "\n",
    "Extraia da string abaixo o valor da taxa *selic* na variável selic e o valor do *ano* na variável ano. Imprima os valores na tela.\n",
    ">noticia = 'Selic vai a 2,75% e supera expectativas; ' + \\ 'é a primeira alta em 6 anos.'"
   ]
  },
  {
   "cell_type": "code",
   "execution_count": null,
   "metadata": {},
   "outputs": [],
   "source": [
    "noticia = 'Selic vai a 2,75% e supera expectativas é a primeira alta em 6 anos.'\n",
    "selic=noticia[12:17]\n",
    "ano=noticia[-7]\n",
    "print(selic)\n",
    "print(ano)"
   ]
  },
  {
   "cell_type": "markdown",
   "metadata": {},
   "source": [
    "## **Tarefa 5: booleanos** ##\n",
    "\n",
    "\n",
    "Utilize a tabela da verdade para responder: qual o valor da variável *x*?\n",
    "\n",
    ">a = False\n",
    ">b = True\n",
    ">x = not a & b\n"
   ]
  },
  {
   "cell_type": "code",
   "execution_count": null,
   "metadata": {},
   "outputs": [],
   "source": [
    "# a = False\n",
    "# b = True\n",
    "# x = not a & b\n",
    "x = True"
   ]
  }
 ],
 "metadata": {
  "kernelspec": {
   "display_name": "Python 3",
   "language": "python",
   "name": "python3"
  },
  "language_info": {
   "codemirror_mode": {
    "name": "ipython",
    "version": 3
   },
   "file_extension": ".py",
   "mimetype": "text/x-python",
   "name": "python",
   "nbconvert_exporter": "python",
   "pygments_lexer": "ipython3",
   "version": "3.12.3"
  }
 },
 "nbformat": 4,
 "nbformat_minor": 2
}

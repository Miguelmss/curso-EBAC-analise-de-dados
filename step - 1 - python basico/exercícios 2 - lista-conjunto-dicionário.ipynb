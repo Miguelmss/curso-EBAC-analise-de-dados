{
 "cells": [
  {
   "cell_type": "markdown",
   "metadata": {},
   "source": [
    "## **Tarefa 1: Listas** ##\n",
    "\n",
    "\n",
    "1. Crie uma lista chamada filmes com o nome dos 10 primeiros filmes mais bem avaliados no site no IMDB utilizando a seguinte estrutura: filmes = [...]\n",
    "1. Simule a movimentação do ranking. Para isso, utilize os métodos insert e pop para trocar a posição do primeiro e do segundo filme da lista.\n",
    "1. Imprima o resultado."
   ]
  },
  {
   "cell_type": "code",
   "execution_count": null,
   "metadata": {},
   "outputs": [],
   "source": [
    "filmes = [\"1. Um Sonho de Liberdade\",\n",
    "\"2. O Poderoso Chefão\",\n",
    "\"3. Batman: O Cavaleiro das Trevas\",\n",
    "\"4. O Poderoso Chefão II\",\n",
    "\"5. 12 Homens e uma Sentença\",\n",
    "\"6. A Lista de Schindler\",\n",
    "\"7. O Senhor dos Anéis: O Retorno do Rei\",\n",
    "\"8. Pulp Fiction: Tempo de Violência\",\n",
    "\"9. O Senhor dos Anéis: A Sociedade do Anel\",\n",
    "\"10. Três Homens em Conflito\"]\n",
    "\n",
    "x=filmes.pop(0)\n",
    "filmes.insert(1,x)\n",
    "\n",
    "print(filmes)\n",
    "\n",
    "\n"
   ]
  },
  {
   "cell_type": "markdown",
   "metadata": {},
   "source": [
    "## **Tarefa 2: conjuntos** ##\n",
    "\n",
    "De alguma forma, obtivemos uma lista de filmes com valores duplicados.\n",
    "\n",
    "1. Utilize a conversão para conjunto e, em seguida, novamente para lista para remover os duplicados. Armazene o resultado de volta na variável filmes.\n",
    "1. Imprima o resultado."
   ]
  },
  {
   "cell_type": "code",
   "execution_count": null,
   "metadata": {},
   "outputs": [],
   "source": [
    "filmes = [\n",
    "    'The Shawshank Redemption',\n",
    "    'The Godfather',\n",
    "    'The Dark Knight',\n",
    "    'The Godfather Part II',\n",
    "    'The Godfather',\n",
    "    '12 Angry Men',\n",
    "    'Schindler\\'s List',\n",
    "    'The Lord of the Rings: The Return of the King',\n",
    "    'Pulp Fiction',\n",
    "    'The Shawshank Redemption',\n",
    "    'The Lord of the Rings: The Fellowship of the Ring',\n",
    "    'The Good, the Bad and the Ugly',\n",
    "    'Pulp Fiction'\n",
    "]\n",
    "\n",
    "filmes=set(filmes)\n",
    "filmes=list(filmes)\n",
    "print(filmes)"
   ]
  },
  {
   "cell_type": "markdown",
   "metadata": {},
   "source": [
    "## **Tarefa 3: Dicionário** ##\n",
    "\n",
    "\n",
    "1. Neste momento, repita o passo a passo de criação da lista feita anteriormente: \n",
    "uma lista chamada filmes com o nome dos 10 primeiros filmes mais bem avaliados no site no IMDB. \n",
    "1. Adicione mais informações a essa estrutura de dados com o ano e a sinopse de cada filme.\n",
    "1. Os elementos da lista filmes devem ser dicionários no seguinte formato:"
   ]
  },
  {
   "cell_type": "code",
   "execution_count": null,
   "metadata": {},
   "outputs": [],
   "source": [
    "{'nome': <nome-do-filme>, 'ano': <ano do filme>, 'sinopse': <sinopse do filme>}"
   ]
  },
  {
   "cell_type": "code",
   "execution_count": null,
   "metadata": {},
   "outputs": [],
   "source": [
    "filmes = [\n",
    "    {'nome': \"Um Sonho de Liberdade\", 'ano': 1994, 'sinopse': \"Dois homens presos se reúnem ao longo de vários anos, encontrando consolo e eventual redenção através de atos de decência comum\"},\n",
    "    {'nome': \"O Poderoso Chefão\", 'ano': 1972, 'sinopse': \"O patriarca idoso de uma dinastia do crime organizado transfere o controle de seu império clandestino para seu filho relutante\"},\n",
    "    {'nome': \"Batman: O Cavaleiro\",'ano': 2008 , 'sinopse': \"Agora com a ajuda do tenente Jim Gordon e do promotor público Harvey Dent, Batman tem tudo para banir o crime de Gotham City de uma vez por todas. Mas em breve, os três serão vítimas do Coringa, que pretende lançar Gotham em uma anarquia.\" },\n",
    "    {'nome': \"O Poderoso Chefão II\", 'ano': 1974, 'sinopse': \"Em 1950, Michael Corleone, agora à frente da família, tenta expandir o negócio do crime a Las Vegas, Los Angeles e Cuba. Paralelamente, é revelada a história de Vito Corleone, e de como saiu da Sicília e chegou a Nova Iorque.\"},\n",
    "    {'nome': \"12 Homens e uma Sentença\", 'ano': 1957, 'sinopse': \"O julgamento de um assassinato em Nova Iorque é frustrado por um único membro, cujo ceticismo força o júri a considerar cuidadosamente as evidências antes de dar o veredito.\"},\n",
    "    {'nome': \"A Lista de Schindler\", 'ano': 1993\n",
    "    , 'sinopse':\"Na Polônia ocupada pelos alemães durante a Segunda Guerra Mundial, o industrial Oskar Schindler começa a ser preocupar com seus trabalhadores judeus depois de testemunhar sua perseguição pelos nazistas.\"},\n",
    "    {'nome': \"O Senhor dos Anéis: O Retorno do Rei\", 'ano': 2003, 'sinopse': \"Gandalf e Aragorn lideram o Mundo dos Homens contra o exército de Sauron para desviar o olhar de Frodo e Sam quando eles se aproximam á Montanha da Perdição com o Um Anel.\"},\n",
    "    {'nome': \"Pulp Fiction: Tempo de Violência\", 'ano': 1994\n",
    "    , 'sinopse': \"As vidas de dois assassinos da máfia, um boxeador, um gângster e sua esposa, e um par de bandidos se entrelaçam em quatro histórias de violência e redenção.\"},\n",
    "    {'nome': \"O Senhor dos Anéis: A Sociedade do Anel\", 'ano': 2001, 'sinopse': 'Um manso hobbit do Condado e oito companheiros partem em uma jornada para destruir o poderoso Um Anel e salvar a Terra-média das Trevas.'},\n",
    "    {'nome': 'Três Homens em Conflito', 'ano': 1966\n",
    "    , 'sinopse': \"Um impostor se junta com dois homens para encontrar fortuna num remoto cemitério.\"}\n",
    "]\n",
    "\n",
    "print(filmes)"
   ]
  }
 ],
 "metadata": {
  "language_info": {
   "name": "python"
  }
 },
 "nbformat": 4,
 "nbformat_minor": 2
}

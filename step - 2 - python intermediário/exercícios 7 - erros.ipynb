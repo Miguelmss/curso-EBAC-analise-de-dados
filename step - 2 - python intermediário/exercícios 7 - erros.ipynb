{
 "cells": [
  {
   "cell_type": "markdown",
   "metadata": {},
   "source": [
    "## **Tarefa 1: Erros de sintaxe 01: Laços de repetição** ##\n",
    "\n",
    "Identifique o erro de sintaxe nos trechos de código abaixo e corrija-os para que o trecho de código funcione.\n",
    "\n",
    "Execute o código inicial para ver a mensagem de erro. Altere o mínimo necessário para deixar o código funcionando."
   ]
  },
  {
   "cell_type": "code",
   "execution_count": null,
   "metadata": {},
   "outputs": [],
   "source": [
    "credito = {'123': 750, '456': 812, '789': 980}\n",
    "\n",
    "for chave, valor in credito.items():\n",
    "\tprint(f'Para o documento {chave}, o valor do escore de crédito é {valor}.')"
   ]
  },
  {
   "cell_type": "markdown",
   "metadata": {},
   "source": [
    "## **Tarefa 2: Erros de sintaxe 02: Funções** ##\n",
    "Identifique o erro de sintaxe nos trechos de código abaixo e corrija-os para que o trecho de código funcione.\n",
    "Execute o código inicial para ver a mensagem de erro. Altere o mínimo necessário para deixar o código funcionando."
   ]
  },
  {
   "cell_type": "code",
   "execution_count": null,
   "metadata": {},
   "outputs": [],
   "source": [
    "def pi_func() -> float:\n",
    "    return 3.14159265359\n",
    "\n",
    "pi_var = pi_func()\n",
    "print(pi_var)\n"
   ]
  },
  {
   "cell_type": "markdown",
   "metadata": {},
   "source": [
    "## **Tarefa 3: Erros de sintaxe 03: Programação Funcional** ##\n",
    "Identifique o erro de sintaxe nos trechos de código abaixo e corrija-os para que o trecho de código funcione.\n",
    "Execute o código inicial para ver a mensagem de erro. Altere o mínimo necessário para deixar o código funcionando."
   ]
  },
  {
   "cell_type": "code",
   "execution_count": null,
   "metadata": {},
   "outputs": [],
   "source": [
    "emails = ['andre.perez@gmail.com', 'andre.perez@live.com', 'andre.perez@yahoo.com']\n",
    "provedor_da_google = lambda email: 'gmail' in email\n",
    "\n",
    "emails_google = filter(provedor_da_google, emails)\n",
    "print(list(emails_google))"
   ]
  },
  {
   "cell_type": "markdown",
   "metadata": {},
   "source": [
    "## **Tarefa 4: Erros de sintaxe 04: Programação orientação a objetos** ##\n",
    "Identifique o erro de sintaxe nos trechos de código abaixo e corrija-os para que o trecho de código funcione.\n",
    "Execute o código inicial para ver a mensagem de erro. Altere o mínimo necessário para deixar o código funcionando."
   ]
  },
  {
   "cell_type": "code",
   "execution_count": null,
   "metadata": {},
   "outputs": [],
   "source": [
    "class Pessoa(object):\n",
    "\tdef __init__(self, nome: str, idade: int, documento: str):\n",
    "\t\tself.nome = nome\n",
    "\t\tself.idade = idade\n",
    "\t\tself.documento = documento\n",
    "\n",
    "andre = Pessoa(nome=\"Andre\", idade=30, documento=\"123\")"
   ]
  },
  {
   "cell_type": "markdown",
   "metadata": {},
   "source": [
    "## **Tarefa 5: Erros em tempo de execução** ##\n",
    "\n",
    "O código abaixo deve calcular o total emprestado por cada vendedor mas está \"estourando\" a exceção ValueError devido a um erro no conjunto de dados. Utilize a estrutura try-except para garantir que o código seja executado com sucesso.\n",
    "\n",
    "1. Identique o bloco que código que pode gerar a exceção e utilize try e except de modo que a operação que pode causar o problema seja colocada dentro do bloco try, e o código que trata a exceção seja escrito dentro do bloco except.\n",
    "1. Trate a Exception e armazene em uma variável chamada error.\n",
    "1. Dentro do except, utilize o método replace() para remover as aspas do conjunto de dados linha_elementos[1].\n",
    "Obs: Através do replace() para remover um caractere, o método vai substituir cada caractere por vazio.\n",
    "\n",
    "O resultado final deve ser a impressão da seguinte lista:\n",
    "````\n",
    "{'104271': 448.0}\n",
    "{'21476': 2480.1000000000004}\n",
    "{'87440': 940.8000000000001}\n",
    "{'15980': 4848.0}\n",
    "{'215906': 11060.0}\n",
    "{'33696': 5542.6}\n",
    "{'33893': 6720.0}\n",
    "{'214946': 74718.0}\n",
    "{'123974': 4043.9}\n",
    "{'225870': 8078.0}\n"
   ]
  },
  {
   "cell_type": "code",
   "execution_count": null,
   "metadata": {},
   "outputs": [],
   "source": [
    "def valor_total_emprestimo(valor: float, quantidade: int) -> float:\n",
    "\treturn valor * quantidade\n",
    "\n",
    "emprestimos = []\n",
    "\n",
    "with open(file='/data/credito.csv', mode='r', encoding='utf8') as fp:\n",
    "\tfp.readline() # cabeçalho\n",
    "\tlinha = fp.readline()\n",
    "\twhile linha:\n",
    "\t\tlinha_emprestimo = {}\n",
    "\t\tlinha_elementos = linha.strip().split(sep=',')\n",
    "\t\tlinha_emprestimo['id_vendedor'] = linha_elementos[0]\n",
    "\t\ttry:\n",
    "\t\t\tlinha_emprestimo['valor_emprestimos'] = float(linha_elementos[1])\n",
    "\t\texcept ValueError as exc:\n",
    "\t\t\terror = exc\n",
    "\t\t\tlinha_emprestimo['valor_emprestimos'] = float(linha_elementos[1].replace('\"', ''))\n",
    "\t\tlinha_emprestimo['quantidade_emprestimos'] = int(linha_elementos[2])\n",
    "\t\tlinha_emprestimo['data'] = linha_elementos[3]\n",
    "\t\temprestimos.append(linha_emprestimo)\n",
    "\t\tlinha = fp.readline()\n",
    "\t\n",
    "emprestimos_total = []\n",
    "for emprestimo in emprestimos:\n",
    "\tvalor_total = valor_total_emprestimo(valor=emprestimo['valor_emprestimos'], quantidade=emprestimo['quantidade_emprestimos'])\n",
    "\temprestimos_total.append({emprestimo['id_vendedor']: valor_total})\n",
    "\t\n",
    "for emprestimo_total in emprestimos_total:\n",
    "\tprint(emprestimo_total)"
   ]
  }
 ],
 "metadata": {
  "language_info": {
   "name": "python"
  }
 },
 "nbformat": 4,
 "nbformat_minor": 2
}

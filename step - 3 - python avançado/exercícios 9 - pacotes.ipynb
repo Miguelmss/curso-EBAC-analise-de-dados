{
  "cells": [
    {
      "cell_type": "code",
      "execution_count": null,
      "metadata": {
        "id": "peVMxIE6689Q"
      },
      "outputs": [],
      "source": [
        "#Exercicio 1: extracao.py\n",
        "import os\n",
        "import json\n",
        "from random import random\n",
        "from datetime import datetime\n",
        "\n",
        "import requests\n",
        "\n",
        "URL = \"https://www2.cetip.com.br/ConsultarTaxaDi/ConsultarTaxaDICetip.aspx\"\n",
        "\n",
        "for i in range(10):\n",
        "    data_hora = datetime.now()\n",
        "    data = datetime.strftime(data_hora, '%y/%m/%d')\n",
        "    hora = datetime.strftime(data_hora, '%H:%M:%S')\n",
        "\n",
        "    try:\n",
        "        resposta = requests.get(URL)\n",
        "        resposta.raise_for_status()\n",
        "    except requests.HTTPError as exc:\n",
        "        print(\"não foi possivel acessar a pagina.\")\n",
        "        cdi = None\n",
        "    except Exception as exc:\n",
        "        print(\"erro, não foi possivel executar o comando\")\n",
        "        raise exc\n",
        "    else:\n",
        "        dado = json.loads(resposta.text)\n",
        "        cdi = float(dado[\"taxa\"].replace(\",\",\".\")) + (random() - 0.7)\n",
        "\n",
        "    if os.path.exists(\"./taxa-cdi.csv\") == False:\n",
        "        with open(file='./taxa-cdi.csv', mode='w', encoding='utf8') as fp:\n",
        "            fp.write('data,hora,taxa\\n')\n",
        "\n",
        "    with open(file=\"./taxa-cdi.csv\", mode=\"a\" , encoding=\"utf8\") as fp:\n",
        "        fp.write(f\"{data},{hora},{cdi}\\n\")\n",
        "    if i == 9:\n",
        "        break\n",
        "print(\"funcionou\")"
      ]
    },
    {
      "cell_type": "code",
      "execution_count": null,
      "metadata": {
        "colab": {
          "base_uri": "https://localhost:8080/"
        },
        "id": "A5Xg_EIP80iQ",
        "outputId": "930e44f6-e1d4-439a-f483-95a76ba0f62e"
      },
      "outputs": [
        {
          "name": "stdout",
          "output_type": "stream",
          "text": [
            "funcionou\n"
          ]
        }
      ],
      "source": [
        "!python extracao.py"
      ]
    },
    {
      "cell_type": "code",
      "execution_count": null,
      "metadata": {
        "id": "GyCYNcEP9SgZ"
      },
      "outputs": [],
      "source": [
        "#exercicio 2: visualizacao.py\n",
        "from sys import argv\n",
        "\n",
        "import pandas as pd\n",
        "import seaborn as sns\n",
        "\n",
        "\n",
        "df=pd.read_csv(\"taxa-cdi.csv\")\n",
        "\n",
        "grafico = sns.lineplot(df,x=\"hora\", y=\"taxa\")\n",
        "grafico.get_figure().savefig(f\"{argv[1]}.png\")\n",
        "print(\"funcionou\")"
      ]
    },
    {
      "cell_type": "code",
      "execution_count": null,
      "metadata": {
        "id": "j6eKefUQ9kEI"
      },
      "outputs": [],
      "source": [
        "!python visualizacao.py grafico"
      ]
    },
    {
      "cell_type": "code",
      "execution_count": null,
      "metadata": {
        "id": "1syDXFOj-Moh"
      },
      "outputs": [],
      "source": [
        "#exercicio 3: analise.py\n",
        "import os\n",
        "import json\n",
        "from random import random\n",
        "from datetime import datetime\n",
        "from sys import argv\n",
        "import pandas as pd\n",
        "import seaborn as sns\n",
        "\n",
        "import requests\n",
        "\n",
        "URL =   \"https://www2.cetip.com.br/ConsultarTaxaDi/ConsultarTaxaDICetip.aspx\"\n",
        "\n",
        "for i in range(10):\n",
        "    data_hora = datetime.now()\n",
        "    data = datetime.strftime(data_hora, '%y/%m/%d')\n",
        "    hora = datetime.strftime(data_hora, '%H:%M:%S')\n",
        "\n",
        "    try:\n",
        "        resposta = requests.get(URL)\n",
        "        resposta.raise_for_status()\n",
        "    except requests.HTTPError as exc:\n",
        "        print(\"não foi possivel acessar a pagina.\")\n",
        "        cdi = None\n",
        "    except Exception as exc:\n",
        "        print(\"erro, não foi possivel executar o comando\")\n",
        "        print(type(exc))\n",
        "        raise exc\n",
        "    else:\n",
        "        dado = json.loads(resposta.text)\n",
        "        cdi = float(dado[\"taxa\"].replace(\",\",\".\")) + (random() - 0.7)\n",
        "\n",
        "    if os.path.exists(\"./taxa-cdi.csv\") == False:\n",
        "        with open(file='./taxa-cdi.csv', mode='w', encoding='utf8') as fp:\n",
        "            fp.write('data,hora,taxa\\n')\n",
        "\n",
        "    with open(file=\"./taxa-cdi.csv\", mode=\"a\" , encoding=\"utf8\") as fp:\n",
        "        fp.write(f\"{data},{hora},{cdi}\\n\")\n",
        "    if i == 9:\n",
        "        break\n",
        "\n",
        "\n",
        "\n",
        "\n",
        "df=pd.read_csv(\"taxa-cdi.csv\")\n",
        "\n",
        "grafico = sns.lineplot(df,x=\"hora\", y=\"taxa\")\n",
        "grafico.get_figure().savefig(f\"{argv[1]}.png\")\n",
        "print(\"funcionou\")"
      ]
    },
    {
      "cell_type": "code",
      "execution_count": null,
      "metadata": {
        "colab": {
          "base_uri": "https://localhost:8080/"
        },
        "id": "BYBqcQES-VAw",
        "outputId": "53aeb7e0-9a71-461b-b182-165214cfb06f"
      },
      "outputs": [
        {
          "name": "stdout",
          "output_type": "stream",
          "text": [
            "funcionou\n"
          ]
        }
      ],
      "source": [
        "!python analise.py grafico1"
      ]
    }
  ],
  "metadata": {
    "colab": {
      "provenance": []
    },
    "kernelspec": {
      "display_name": "Python 3",
      "name": "python3"
    },
    "language_info": {
      "name": "python"
    }
  },
  "nbformat": 4,
  "nbformat_minor": 0
}

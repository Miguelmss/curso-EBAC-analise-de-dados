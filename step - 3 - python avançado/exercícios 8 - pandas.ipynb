{
 "cells": [
  {
   "cell_type": "markdown",
   "metadata": {},
   "source": [
    "## **Tarefa 1: pandas** ##\n",
    "\n",
    "\n",
    "Neste exercício vamos utilizar a base de dados de ações da bolsa de valores dos EUA, a Dow Jones. Para processar os dados, vamos utilizar o pacote `pandas`. A documentação completa por ser encontrada neste link.\n",
    "\n",
    "Todas as bibliotecas já estão instaladas e o arquivo CSV já existe no caminho /data/dow_jones_index.csv\n",
    "\n",
    "Para tratar os dados, você deve:\n",
    "\n",
    "* Filtrar os dados para utilizar apenas os dados da empresa Coca-cola (coluna stock com o valor KO).\n",
    "* Selecionar os valores de abertura, fechamento, máximo e mínimo das ações da empresa Coca-Cola.\n",
    "* Limpar as colunas, retirando o caractere $ e convertendo os valores de string para float.\n",
    "\n",
    "Certifique-se que o Dataframe final esteja armazenado na variável df_coke\n",
    "\n",
    "Obs: No Material de Apoio da aula existe um Jupyter Notebook com explicações e exemplos. Veja o material antes de resolver o exercício."
   ]
  },
  {
   "cell_type": "code",
   "execution_count": null,
   "metadata": {},
   "outputs": [],
   "source": [
    "import pandas as pd\n",
    "\n",
    "df = pd.read_csv('/data/dow_jones_index.csv')\n",
    "\n",
    "# Crie um Dataframe filtrado, selecionando as linha do dataframe original df em que a coluna stock é igual a KO.\n",
    "df_coke =df[df[\"stock\"]==\"KO\"]\n",
    "\n",
    "# Selecione apenas as colunas de data e valores de ações: ['date', 'open', 'high', 'low', 'close'].\n",
    "df_coke = df_coke[[\"date\", \"open\", \"high\", \"low\", \"close\"]]\n",
    "# Limpe as colunas com o método `apply`, que permite a aplicação de uma função anônima (`lambda`) qualquer. A função `lambda` deve remover o caracter `$` e fazer a conversão do tipo de `str` para `float`.\n",
    "df_coke[\"open\"] = df_coke[\"open\"].str.replace(\"$\", \"\",)\n",
    "df_coke[\"high\"] = df_coke[\"high\"].str.replace(\"$\", \"\",)\n",
    "df_coke[\"low\"] = df_coke[\"low\"].str.replace(\"$\", \"\",)\n",
    "df_coke[\"close\"] = df_coke[\"close\"].str.replace(\"$\", \"\")\n",
    "\n",
    "df_coke[\"open\"] = df_coke[\"open\"].astype(float)\n",
    "df_coke[\"high\"] = df_coke[\"high\"].astype(float)\n",
    "df_coke[\"low\"] = df_coke[\"low\"].astype(float)\n",
    "df_coke[\"close\"] = df_coke[\"close\"].astype(float)\n",
    "# print the types\n",
    "print(df_coke.dtypes)\n"
   ]
  },
  {
   "cell_type": "markdown",
   "metadata": {},
   "source": [
    "## **Tarefa 2: seaborn** ##\n",
    "\n",
    "Para visualizar os dados, vamos utilizar o pacote seaborn na versão 0.13.2. A documentação completa por ser encontrada neste https://seaborn.pydata.org/.\n",
    "\n",
    "Todas as bibliotecas necessárias já estão instaladas. O arquivo /data/df_coke.csv contém o resultado da Parte 1 deste exercício, com os dados já filtrados e convertidos para o tipo float.\n",
    "\n",
    "Crie um gráfico de linha (sns.lineplot()) que demonstre a visualização da abertura das ações (coluna 'open') ao longo do tempo.\n",
    "\n",
    "Obs: para visualizar seu gráfico, utilize o comando plt.show().\n"
   ]
  },
  {
   "cell_type": "code",
   "execution_count": null,
   "metadata": {},
   "outputs": [],
   "source": [
    "import seaborn as sns\n",
    "import matplotlib.pyplot as plt\n",
    "import pandas as pd\n",
    "\n",
    "df_coke = pd.read_csv('/data/df_coke.csv', index_col=0)\n",
    "\n",
    "fig, axs = plt.subplots(1, figsize=(8, 8))\n",
    "\n",
    "# Insira se código na linha abaixo. Veja a dica para resolver esse exercício\n",
    "plot = sns.lineplot(data=df_coke,x=\"date\", y=\"open\")\n",
    "\n",
    "plt.show()"
   ]
  }
 ],
 "metadata": {
  "kernelspec": {
   "display_name": "Python 3",
   "language": "python",
   "name": "python3"
  },
  "language_info": {
   "codemirror_mode": {
    "name": "ipython",
    "version": 3
   },
   "file_extension": ".py",
   "mimetype": "text/x-python",
   "name": "python",
   "nbconvert_exporter": "python",
   "pygments_lexer": "ipython3",
   "version": "3.12.3"
  }
 },
 "nbformat": 4,
 "nbformat_minor": 2
}
